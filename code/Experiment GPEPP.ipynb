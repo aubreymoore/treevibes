{
 "cells": [
  {
   "cell_type": "code",
   "execution_count": 1,
   "id": "e21bebcb-e864-43ec-98bf-a00831a38e44",
   "metadata": {},
   "outputs": [],
   "source": [
    "import fsspec\n",
    "from pathlib import Path\n",
    "import os\n",
    "import glob\n",
    "from scipy.io import wavfile\n",
    "import numpy as np\n",
    "import shutil\n",
    "import pandas as pd\n",
    "pd.options.plotting.backend = \"plotly\""
   ]
  },
  {
   "cell_type": "code",
   "execution_count": 2,
   "id": "6db3ac14-057c-4bbc-aa0e-123b3b36cce0",
   "metadata": {},
   "outputs": [
    {
     "name": "stdout",
     "output_type": "stream",
     "text": [
      "cloning GitHub repo --- this may take a long time\n",
      "CPU times: user 832 µs, sys: 4.46 ms, total: 5.3 ms\n",
      "Wall time: 1min 1s\n"
     ]
    },
    {
     "data": {
      "text/plain": [
       "0"
      ]
     },
     "execution_count": 2,
     "metadata": {},
     "output_type": "execute_result"
    }
   ],
   "source": [
    "%%time\n",
    "# Clone the GitHub repo\n",
    "print('cloning GitHub repo --- this may take a long time')\n",
    "shutil.rmtree('good-vibrations', ignore_errors=True)   \n",
    "os.system('git clone http://github.com/aubreymoore/good-vibrations.git')"
   ]
  },
  {
   "cell_type": "code",
   "execution_count": 3,
   "id": "6af36a38-6c09-46c8-87c6-12d5961b1af9",
   "metadata": {},
   "outputs": [
    {
     "data": {
      "text/plain": [
       "186"
      ]
     },
     "execution_count": 3,
     "metadata": {},
     "output_type": "execute_result"
    }
   ],
   "source": [
    "# Get a list of wavpaths\n",
    "wavpathlist = sorted(glob.glob('good-vibrations/data/gpepp/*.wav'))\n",
    "len(wavpathlist)"
   ]
  },
  {
   "cell_type": "code",
   "execution_count": 4,
   "id": "c6589420-019d-453b-9762-1dd1f2eb565f",
   "metadata": {},
   "outputs": [],
   "source": [
    "def maa(wavpath):\n",
    "    '''Calculate mean absolute amplitude'''\n",
    "    _, data = wavfile.read(wavpath)\n",
    "    return np.mean(np.abs(data))\n",
    "\n",
    "# maa(wavlist[10])"
   ]
  },
  {
   "cell_type": "code",
   "execution_count": 5,
   "id": "c996695a-6668-49f5-91b6-0e5ed66b4efc",
   "metadata": {},
   "outputs": [],
   "source": [
    "def get_timestamp(wavpath):\n",
    "    '''Extract the timestamp from a wavpath'''\n",
    "    return wavpath.split('/')[-1].split('.')[0]"
   ]
  },
  {
   "cell_type": "code",
   "execution_count": 6,
   "id": "8090417b-27c9-41e4-85c1-4dfdc2ef9960",
   "metadata": {},
   "outputs": [
    {
     "name": "stdout",
     "output_type": "stream",
     "text": [
      "CPU times: user 74.3 ms, sys: 21.1 ms, total: 95.3 ms\n",
      "Wall time: 102 ms\n"
     ]
    },
    {
     "data": {
      "text/html": [
       "<div>\n",
       "<style scoped>\n",
       "    .dataframe tbody tr th:only-of-type {\n",
       "        vertical-align: middle;\n",
       "    }\n",
       "\n",
       "    .dataframe tbody tr th {\n",
       "        vertical-align: top;\n",
       "    }\n",
       "\n",
       "    .dataframe thead th {\n",
       "        text-align: right;\n",
       "    }\n",
       "</style>\n",
       "<table border=\"1\" class=\"dataframe\">\n",
       "  <thead>\n",
       "    <tr style=\"text-align: right;\">\n",
       "      <th></th>\n",
       "      <th>timestamp</th>\n",
       "      <th>maa</th>\n",
       "    </tr>\n",
       "  </thead>\n",
       "  <tbody>\n",
       "    <tr>\n",
       "      <th>0</th>\n",
       "      <td>2022-05-23T12:01:39</td>\n",
       "      <td>2331.508646</td>\n",
       "    </tr>\n",
       "    <tr>\n",
       "      <th>1</th>\n",
       "      <td>2022-05-23T12:11:51</td>\n",
       "      <td>159.958627</td>\n",
       "    </tr>\n",
       "    <tr>\n",
       "      <th>2</th>\n",
       "      <td>2022-05-23T12:21:58</td>\n",
       "      <td>900.848956</td>\n",
       "    </tr>\n",
       "    <tr>\n",
       "      <th>3</th>\n",
       "      <td>2022-05-23T12:32:04</td>\n",
       "      <td>86.770650</td>\n",
       "    </tr>\n",
       "    <tr>\n",
       "      <th>4</th>\n",
       "      <td>2022-05-23T12:42:11</td>\n",
       "      <td>1420.963217</td>\n",
       "    </tr>\n",
       "    <tr>\n",
       "      <th>...</th>\n",
       "      <td>...</td>\n",
       "      <td>...</td>\n",
       "    </tr>\n",
       "    <tr>\n",
       "      <th>181</th>\n",
       "      <td>2022-05-24T18:50:23</td>\n",
       "      <td>72.523925</td>\n",
       "    </tr>\n",
       "    <tr>\n",
       "      <th>182</th>\n",
       "      <td>2022-05-24T19:00:30</td>\n",
       "      <td>70.874152</td>\n",
       "    </tr>\n",
       "    <tr>\n",
       "      <th>183</th>\n",
       "      <td>2022-05-24T19:10:36</td>\n",
       "      <td>70.374823</td>\n",
       "    </tr>\n",
       "    <tr>\n",
       "      <th>184</th>\n",
       "      <td>2022-05-24T19:20:45</td>\n",
       "      <td>69.529990</td>\n",
       "    </tr>\n",
       "    <tr>\n",
       "      <th>185</th>\n",
       "      <td>2022-05-24T19:30:52</td>\n",
       "      <td>66.753054</td>\n",
       "    </tr>\n",
       "  </tbody>\n",
       "</table>\n",
       "<p>186 rows × 2 columns</p>\n",
       "</div>"
      ],
      "text/plain": [
       "               timestamp          maa\n",
       "0    2022-05-23T12:01:39  2331.508646\n",
       "1    2022-05-23T12:11:51   159.958627\n",
       "2    2022-05-23T12:21:58   900.848956\n",
       "3    2022-05-23T12:32:04    86.770650\n",
       "4    2022-05-23T12:42:11  1420.963217\n",
       "..                   ...          ...\n",
       "181  2022-05-24T18:50:23    72.523925\n",
       "182  2022-05-24T19:00:30    70.874152\n",
       "183  2022-05-24T19:10:36    70.374823\n",
       "184  2022-05-24T19:20:45    69.529990\n",
       "185  2022-05-24T19:30:52    66.753054\n",
       "\n",
       "[186 rows x 2 columns]"
      ]
     },
     "execution_count": 6,
     "metadata": {},
     "output_type": "execute_result"
    }
   ],
   "source": [
    "%%time\n",
    "# Build a pandas dataframe\n",
    "mylist = []\n",
    "for i, wavpath in enumerate(wavpathlist):\n",
    "    mylist.append({'timestamp': get_timestamp(wavpath), 'maa': maa(wavpath)})\n",
    "df = pd.DataFrame(mylist)\n",
    "df"
   ]
  },
  {
   "cell_type": "code",
   "execution_count": 7,
   "id": "07ad59b5-ce6d-4eca-925a-19e87b24be84",
   "metadata": {},
   "outputs": [],
   "source": [
    "# Remove the first recording because it contains unwanted background noise from human voices etc.\n",
    "# df.drop(index=0, inplace=True)"
   ]
  },
  {
   "cell_type": "code",
   "execution_count": 11,
   "id": "afb81fc1-86cb-409f-af1c-6e2e8aea2804",
   "metadata": {},
   "outputs": [
    {
     "data": {
      "application/vnd.plotly.v1+json": {
       "config": {
        "plotlyServerURL": "https://plot.ly"
       },
       "data": [
        {
         "alignmentgroup": "True",
         "hovertemplate": "timestamp=%{x}<br>maa=%{y}<extra></extra>",
         "legendgroup": "",
         "marker": {
          "color": "#636efa"
         },
         "name": "",
         "offsetgroup": "",
         "orientation": "v",
         "showlegend": false,
         "textposition": "auto",
         "type": "bar",
         "x": [
          "2022-05-23T12:01:39",
          "2022-05-23T12:11:51",
          "2022-05-23T12:21:58",
          "2022-05-23T12:32:04",
          "2022-05-23T12:42:11",
          "2022-05-23T12:52:17",
          "2022-05-23T13:02:24",
          "2022-05-23T13:13:19",
          "2022-05-23T13:23:33",
          "2022-05-23T13:33:39",
          "2022-05-23T13:43:51",
          "2022-05-23T13:53:57",
          "2022-05-23T14:04:03",
          "2022-05-23T14:14:10",
          "2022-05-23T14:24:17",
          "2022-05-23T14:34:23",
          "2022-05-23T14:44:30",
          "2022-05-23T14:54:36",
          "2022-05-23T15:04:43",
          "2022-05-23T15:14:49",
          "2022-05-23T15:25:03",
          "2022-05-23T15:35:09",
          "2022-05-23T15:45:16",
          "2022-05-23T15:55:23",
          "2022-05-23T16:05:30",
          "2022-05-23T16:15:36",
          "2022-05-23T16:25:43",
          "2022-05-23T16:35:50",
          "2022-05-23T16:45:57",
          "2022-05-23T16:56:08",
          "2022-05-23T17:06:15",
          "2022-05-23T17:16:23",
          "2022-05-23T17:26:31",
          "2022-05-23T17:36:39",
          "2022-05-23T17:46:40",
          "2022-05-23T17:56:49",
          "2022-05-23T18:06:49",
          "2022-05-23T18:17:05",
          "2022-05-23T18:27:11",
          "2022-05-23T18:37:19",
          "2022-05-23T18:47:25",
          "2022-05-23T18:57:32",
          "2022-05-23T19:07:38",
          "2022-05-23T19:17:45",
          "2022-05-23T19:28:06",
          "2022-05-23T19:38:27",
          "2022-05-23T19:48:48",
          "2022-05-23T19:58:57",
          "2022-05-23T20:09:04",
          "2022-05-23T20:19:10",
          "2022-05-23T20:29:17",
          "2022-05-23T20:39:24",
          "2022-05-23T20:49:30",
          "2022-05-23T20:59:37",
          "2022-05-23T21:09:44",
          "2022-05-23T21:19:51",
          "2022-05-23T21:29:57",
          "2022-05-23T21:40:04",
          "2022-05-23T21:50:45",
          "2022-05-23T22:00:56",
          "2022-05-23T22:10:57",
          "2022-05-23T22:21:05",
          "2022-05-23T22:31:11",
          "2022-05-23T22:41:18",
          "2022-05-23T22:51:30",
          "2022-05-23T23:01:38",
          "2022-05-23T23:11:45",
          "2022-05-23T23:22:03",
          "2022-05-23T23:32:29",
          "2022-05-23T23:43:02",
          "2022-05-23T23:53:52",
          "2022-05-24T00:04:44",
          "2022-05-24T00:15:53",
          "2022-05-24T00:27:43",
          "2022-05-24T00:38:29",
          "2022-05-24T00:48:36",
          "2022-05-24T00:58:46",
          "2022-05-24T01:09:05",
          "2022-05-24T01:19:37",
          "2022-05-24T01:30:15",
          "2022-05-24T01:41:12",
          "2022-05-24T01:52:23",
          "2022-05-24T02:03:57",
          "2022-05-24T02:15:35",
          "2022-05-24T02:25:56",
          "2022-05-24T02:37:37",
          "2022-05-24T02:47:58",
          "2022-05-24T02:58:05",
          "2022-05-24T03:08:12",
          "2022-05-24T03:18:19",
          "2022-05-24T03:28:24",
          "2022-05-24T03:38:31",
          "2022-05-24T03:48:37",
          "2022-05-24T03:58:44",
          "2022-05-24T04:08:45",
          "2022-05-24T04:18:51",
          "2022-05-24T04:28:59",
          "2022-05-24T04:39:06",
          "2022-05-24T04:49:12",
          "2022-05-24T04:59:19",
          "2022-05-24T05:09:20",
          "2022-05-24T05:19:28",
          "2022-05-24T05:29:34",
          "2022-05-24T05:39:43",
          "2022-05-24T05:49:50",
          "2022-05-24T05:59:56",
          "2022-05-24T06:10:03",
          "2022-05-24T06:20:09",
          "2022-05-24T06:30:17",
          "2022-05-24T06:40:23",
          "2022-05-24T06:50:30",
          "2022-05-24T07:00:37",
          "2022-05-24T07:10:46",
          "2022-05-24T07:21:10",
          "2022-05-24T07:31:16",
          "2022-05-24T07:41:22",
          "2022-05-24T07:51:29",
          "2022-05-24T08:01:35",
          "2022-05-24T08:11:44",
          "2022-05-24T08:22:02",
          "2022-05-24T08:32:08",
          "2022-05-24T08:42:15",
          "2022-05-24T08:52:21",
          "2022-05-24T09:02:22",
          "2022-05-24T09:12:30",
          "2022-05-24T09:22:37",
          "2022-05-24T09:32:44",
          "2022-05-24T09:42:52",
          "2022-05-24T09:53:03",
          "2022-05-24T10:03:10",
          "2022-05-24T10:13:20",
          "2022-05-24T10:23:27",
          "2022-05-24T10:33:36",
          "2022-05-24T10:43:51",
          "2022-05-24T10:53:51",
          "2022-05-24T11:03:52",
          "2022-05-24T11:14:10",
          "2022-05-24T11:24:17",
          "2022-05-24T11:34:24",
          "2022-05-24T11:44:31",
          "2022-05-24T11:54:39",
          "2022-05-24T12:04:49",
          "2022-05-24T12:14:55",
          "2022-05-24T12:25:03",
          "2022-05-24T12:35:09",
          "2022-05-24T12:45:17",
          "2022-05-24T12:55:29",
          "2022-05-24T13:05:52",
          "2022-05-24T13:16:00",
          "2022-05-24T13:26:11",
          "2022-05-24T13:36:23",
          "2022-05-24T13:46:31",
          "2022-05-24T13:56:40",
          "2022-05-24T14:06:49",
          "2022-05-24T14:16:56",
          "2022-05-24T14:27:17",
          "2022-05-24T14:37:25",
          "2022-05-24T14:47:32",
          "2022-05-24T14:57:39",
          "2022-05-24T15:07:47",
          "2022-05-24T15:17:55",
          "2022-05-24T15:28:02",
          "2022-05-24T15:38:09",
          "2022-05-24T15:48:15",
          "2022-05-24T15:58:22",
          "2022-05-24T16:08:28",
          "2022-05-24T16:18:35",
          "2022-05-24T16:28:44",
          "2022-05-24T16:38:52",
          "2022-05-24T16:48:59",
          "2022-05-24T16:59:06",
          "2022-05-24T17:09:13",
          "2022-05-24T17:19:19",
          "2022-05-24T17:29:26",
          "2022-05-24T17:39:32",
          "2022-05-24T17:49:41",
          "2022-05-24T17:59:48",
          "2022-05-24T18:09:56",
          "2022-05-24T18:20:03",
          "2022-05-24T18:30:11",
          "2022-05-24T18:40:17",
          "2022-05-24T18:50:23",
          "2022-05-24T19:00:30",
          "2022-05-24T19:10:36",
          "2022-05-24T19:20:45",
          "2022-05-24T19:30:52"
         ],
         "xaxis": "x",
         "y": [
          2331.5086458333335,
          159.95862708333334,
          900.84895625,
          86.77065,
          1420.9632166666668,
          844.85998125,
          81.01197708333333,
          82.14937916666666,
          77.66931041666666,
          164.85385833333333,
          84.99518125,
          99.742825,
          79.29255833333333,
          176.75960625,
          160.63376041666666,
          77.80495833333333,
          78.89290208333334,
          77.83735833333333,
          78.64923333333333,
          79.57941666666666,
          78.90530625,
          76.91690416666667,
          78.06140208333333,
          80.47884583333334,
          85.60581458333333,
          80.55486666666667,
          78.0700375,
          77.43654583333333,
          80.03473125,
          78.12529166666667,
          82.78309791666666,
          77.93993125,
          77.84713541666666,
          74.50339791666667,
          73.3056625,
          75.06383541666666,
          75.01823333333333,
          74.56526041666666,
          76.41907916666666,
          74.44292083333333,
          73.00274583333334,
          71.64222916666667,
          71.0350375,
          70.26906041666666,
          70.5251375,
          72.12558958333334,
          70.4678625,
          69.1865125,
          69.92091666666667,
          68.95665208333334,
          70.61101875,
          71.70888541666666,
          71.36144166666666,
          70.03742291666667,
          71.58286458333333,
          71.0611125,
          69.83182291666667,
          68.78354375,
          68.84509791666666,
          69.63596666666666,
          71.56354375,
          68.9958625,
          69.73570625,
          68.46471041666666,
          70.15009583333334,
          69.64414791666667,
          68.13445833333333,
          68.59768958333333,
          68.25624375,
          69.39926041666666,
          70.086775,
          68.90080625,
          69.163875,
          68.21591875,
          69.68010208333334,
          69.33553541666667,
          66.69666458333333,
          69.01197708333333,
          67.55393958333333,
          69.14208333333333,
          69.02980416666666,
          67.4495875,
          67.37384375,
          67.79587916666667,
          68.78025416666667,
          68.32907291666666,
          70.15847708333334,
          69.34113125,
          68.42773958333333,
          68.10261666666666,
          68.85376666666667,
          67.849525,
          69.73391666666667,
          68.12295833333333,
          68.71025208333333,
          70.1288625,
          69.42470625,
          68.09042916666667,
          68.45913125,
          68.24786041666667,
          71.40263125,
          72.91384583333334,
          73.873925,
          70.8765375,
          69.8794375,
          68.94137291666667,
          67.17291875,
          68.21777916666667,
          69.60239166666666,
          70.21188541666666,
          71.05651875,
          70.75044375,
          69.9727375,
          86.99966041666667,
          71.81000416666667,
          71.81110416666667,
          72.44103333333334,
          71.24434583333333,
          71.341875,
          75.79743333333333,
          75.91672916666667,
          78.40088125,
          76.05492708333334,
          78.90439791666667,
          78.65514166666667,
          77.73724375,
          73.44599375,
          76.75668541666667,
          75.04701458333334,
          76.27395625,
          70.92571458333333,
          70.07459166666666,
          72.5838625,
          71.22432083333334,
          71.27031666666667,
          70.95452916666666,
          71.38205208333333,
          71.4431375,
          74.20216875,
          74.12407083333333,
          74.27783541666666,
          74.11814583333333,
          73.48360625,
          74.79841875,
          73.96131458333333,
          96.74455,
          78.56094583333334,
          74.29339791666666,
          72.86834375,
          73.12213333333334,
          74.76108125,
          73.52889375,
          74.47406458333333,
          73.37669166666667,
          75.00417083333333,
          73.50361041666666,
          73.60177916666666,
          73.63245833333333,
          73.38525,
          71.47901458333334,
          72.10744375,
          72.06524583333334,
          72.46431041666666,
          73.73984791666666,
          75.85063125,
          73.74232708333334,
          73.45102291666667,
          69.81261041666667,
          69.76387291666667,
          71.5114,
          71.45532291666666,
          72.89577916666667,
          71.533775,
          70.57064791666667,
          70.94257291666666,
          70.49525208333333,
          118.49050208333334,
          70.84812916666667,
          72.7462625,
          69.97173541666666,
          72.00887916666667,
          72.523925,
          70.87415208333333,
          70.37482291666667,
          69.52998958333333,
          66.75305416666667
         ],
         "yaxis": "y"
        }
       ],
       "layout": {
        "autosize": true,
        "barmode": "relative",
        "legend": {
         "tracegroupgap": 0
        },
        "margin": {
         "t": 60
        },
        "template": {
         "data": {
          "bar": [
           {
            "error_x": {
             "color": "#2a3f5f"
            },
            "error_y": {
             "color": "#2a3f5f"
            },
            "marker": {
             "line": {
              "color": "#E5ECF6",
              "width": 0.5
             }
            },
            "type": "bar"
           }
          ],
          "barpolar": [
           {
            "marker": {
             "line": {
              "color": "#E5ECF6",
              "width": 0.5
             }
            },
            "type": "barpolar"
           }
          ],
          "carpet": [
           {
            "aaxis": {
             "endlinecolor": "#2a3f5f",
             "gridcolor": "white",
             "linecolor": "white",
             "minorgridcolor": "white",
             "startlinecolor": "#2a3f5f"
            },
            "baxis": {
             "endlinecolor": "#2a3f5f",
             "gridcolor": "white",
             "linecolor": "white",
             "minorgridcolor": "white",
             "startlinecolor": "#2a3f5f"
            },
            "type": "carpet"
           }
          ],
          "choropleth": [
           {
            "colorbar": {
             "outlinewidth": 0,
             "ticks": ""
            },
            "type": "choropleth"
           }
          ],
          "contour": [
           {
            "colorbar": {
             "outlinewidth": 0,
             "ticks": ""
            },
            "colorscale": [
             [
              0,
              "#0d0887"
             ],
             [
              0.1111111111111111,
              "#46039f"
             ],
             [
              0.2222222222222222,
              "#7201a8"
             ],
             [
              0.3333333333333333,
              "#9c179e"
             ],
             [
              0.4444444444444444,
              "#bd3786"
             ],
             [
              0.5555555555555556,
              "#d8576b"
             ],
             [
              0.6666666666666666,
              "#ed7953"
             ],
             [
              0.7777777777777778,
              "#fb9f3a"
             ],
             [
              0.8888888888888888,
              "#fdca26"
             ],
             [
              1,
              "#f0f921"
             ]
            ],
            "type": "contour"
           }
          ],
          "contourcarpet": [
           {
            "colorbar": {
             "outlinewidth": 0,
             "ticks": ""
            },
            "type": "contourcarpet"
           }
          ],
          "heatmap": [
           {
            "colorbar": {
             "outlinewidth": 0,
             "ticks": ""
            },
            "colorscale": [
             [
              0,
              "#0d0887"
             ],
             [
              0.1111111111111111,
              "#46039f"
             ],
             [
              0.2222222222222222,
              "#7201a8"
             ],
             [
              0.3333333333333333,
              "#9c179e"
             ],
             [
              0.4444444444444444,
              "#bd3786"
             ],
             [
              0.5555555555555556,
              "#d8576b"
             ],
             [
              0.6666666666666666,
              "#ed7953"
             ],
             [
              0.7777777777777778,
              "#fb9f3a"
             ],
             [
              0.8888888888888888,
              "#fdca26"
             ],
             [
              1,
              "#f0f921"
             ]
            ],
            "type": "heatmap"
           }
          ],
          "heatmapgl": [
           {
            "colorbar": {
             "outlinewidth": 0,
             "ticks": ""
            },
            "colorscale": [
             [
              0,
              "#0d0887"
             ],
             [
              0.1111111111111111,
              "#46039f"
             ],
             [
              0.2222222222222222,
              "#7201a8"
             ],
             [
              0.3333333333333333,
              "#9c179e"
             ],
             [
              0.4444444444444444,
              "#bd3786"
             ],
             [
              0.5555555555555556,
              "#d8576b"
             ],
             [
              0.6666666666666666,
              "#ed7953"
             ],
             [
              0.7777777777777778,
              "#fb9f3a"
             ],
             [
              0.8888888888888888,
              "#fdca26"
             ],
             [
              1,
              "#f0f921"
             ]
            ],
            "type": "heatmapgl"
           }
          ],
          "histogram": [
           {
            "marker": {
             "colorbar": {
              "outlinewidth": 0,
              "ticks": ""
             }
            },
            "type": "histogram"
           }
          ],
          "histogram2d": [
           {
            "colorbar": {
             "outlinewidth": 0,
             "ticks": ""
            },
            "colorscale": [
             [
              0,
              "#0d0887"
             ],
             [
              0.1111111111111111,
              "#46039f"
             ],
             [
              0.2222222222222222,
              "#7201a8"
             ],
             [
              0.3333333333333333,
              "#9c179e"
             ],
             [
              0.4444444444444444,
              "#bd3786"
             ],
             [
              0.5555555555555556,
              "#d8576b"
             ],
             [
              0.6666666666666666,
              "#ed7953"
             ],
             [
              0.7777777777777778,
              "#fb9f3a"
             ],
             [
              0.8888888888888888,
              "#fdca26"
             ],
             [
              1,
              "#f0f921"
             ]
            ],
            "type": "histogram2d"
           }
          ],
          "histogram2dcontour": [
           {
            "colorbar": {
             "outlinewidth": 0,
             "ticks": ""
            },
            "colorscale": [
             [
              0,
              "#0d0887"
             ],
             [
              0.1111111111111111,
              "#46039f"
             ],
             [
              0.2222222222222222,
              "#7201a8"
             ],
             [
              0.3333333333333333,
              "#9c179e"
             ],
             [
              0.4444444444444444,
              "#bd3786"
             ],
             [
              0.5555555555555556,
              "#d8576b"
             ],
             [
              0.6666666666666666,
              "#ed7953"
             ],
             [
              0.7777777777777778,
              "#fb9f3a"
             ],
             [
              0.8888888888888888,
              "#fdca26"
             ],
             [
              1,
              "#f0f921"
             ]
            ],
            "type": "histogram2dcontour"
           }
          ],
          "mesh3d": [
           {
            "colorbar": {
             "outlinewidth": 0,
             "ticks": ""
            },
            "type": "mesh3d"
           }
          ],
          "parcoords": [
           {
            "line": {
             "colorbar": {
              "outlinewidth": 0,
              "ticks": ""
             }
            },
            "type": "parcoords"
           }
          ],
          "pie": [
           {
            "automargin": true,
            "type": "pie"
           }
          ],
          "scatter": [
           {
            "marker": {
             "colorbar": {
              "outlinewidth": 0,
              "ticks": ""
             }
            },
            "type": "scatter"
           }
          ],
          "scatter3d": [
           {
            "line": {
             "colorbar": {
              "outlinewidth": 0,
              "ticks": ""
             }
            },
            "marker": {
             "colorbar": {
              "outlinewidth": 0,
              "ticks": ""
             }
            },
            "type": "scatter3d"
           }
          ],
          "scattercarpet": [
           {
            "marker": {
             "colorbar": {
              "outlinewidth": 0,
              "ticks": ""
             }
            },
            "type": "scattercarpet"
           }
          ],
          "scattergeo": [
           {
            "marker": {
             "colorbar": {
              "outlinewidth": 0,
              "ticks": ""
             }
            },
            "type": "scattergeo"
           }
          ],
          "scattergl": [
           {
            "marker": {
             "colorbar": {
              "outlinewidth": 0,
              "ticks": ""
             }
            },
            "type": "scattergl"
           }
          ],
          "scattermapbox": [
           {
            "marker": {
             "colorbar": {
              "outlinewidth": 0,
              "ticks": ""
             }
            },
            "type": "scattermapbox"
           }
          ],
          "scatterpolar": [
           {
            "marker": {
             "colorbar": {
              "outlinewidth": 0,
              "ticks": ""
             }
            },
            "type": "scatterpolar"
           }
          ],
          "scatterpolargl": [
           {
            "marker": {
             "colorbar": {
              "outlinewidth": 0,
              "ticks": ""
             }
            },
            "type": "scatterpolargl"
           }
          ],
          "scatterternary": [
           {
            "marker": {
             "colorbar": {
              "outlinewidth": 0,
              "ticks": ""
             }
            },
            "type": "scatterternary"
           }
          ],
          "surface": [
           {
            "colorbar": {
             "outlinewidth": 0,
             "ticks": ""
            },
            "colorscale": [
             [
              0,
              "#0d0887"
             ],
             [
              0.1111111111111111,
              "#46039f"
             ],
             [
              0.2222222222222222,
              "#7201a8"
             ],
             [
              0.3333333333333333,
              "#9c179e"
             ],
             [
              0.4444444444444444,
              "#bd3786"
             ],
             [
              0.5555555555555556,
              "#d8576b"
             ],
             [
              0.6666666666666666,
              "#ed7953"
             ],
             [
              0.7777777777777778,
              "#fb9f3a"
             ],
             [
              0.8888888888888888,
              "#fdca26"
             ],
             [
              1,
              "#f0f921"
             ]
            ],
            "type": "surface"
           }
          ],
          "table": [
           {
            "cells": {
             "fill": {
              "color": "#EBF0F8"
             },
             "line": {
              "color": "white"
             }
            },
            "header": {
             "fill": {
              "color": "#C8D4E3"
             },
             "line": {
              "color": "white"
             }
            },
            "type": "table"
           }
          ]
         },
         "layout": {
          "annotationdefaults": {
           "arrowcolor": "#2a3f5f",
           "arrowhead": 0,
           "arrowwidth": 1
          },
          "autotypenumbers": "strict",
          "coloraxis": {
           "colorbar": {
            "outlinewidth": 0,
            "ticks": ""
           }
          },
          "colorscale": {
           "diverging": [
            [
             0,
             "#8e0152"
            ],
            [
             0.1,
             "#c51b7d"
            ],
            [
             0.2,
             "#de77ae"
            ],
            [
             0.3,
             "#f1b6da"
            ],
            [
             0.4,
             "#fde0ef"
            ],
            [
             0.5,
             "#f7f7f7"
            ],
            [
             0.6,
             "#e6f5d0"
            ],
            [
             0.7,
             "#b8e186"
            ],
            [
             0.8,
             "#7fbc41"
            ],
            [
             0.9,
             "#4d9221"
            ],
            [
             1,
             "#276419"
            ]
           ],
           "sequential": [
            [
             0,
             "#0d0887"
            ],
            [
             0.1111111111111111,
             "#46039f"
            ],
            [
             0.2222222222222222,
             "#7201a8"
            ],
            [
             0.3333333333333333,
             "#9c179e"
            ],
            [
             0.4444444444444444,
             "#bd3786"
            ],
            [
             0.5555555555555556,
             "#d8576b"
            ],
            [
             0.6666666666666666,
             "#ed7953"
            ],
            [
             0.7777777777777778,
             "#fb9f3a"
            ],
            [
             0.8888888888888888,
             "#fdca26"
            ],
            [
             1,
             "#f0f921"
            ]
           ],
           "sequentialminus": [
            [
             0,
             "#0d0887"
            ],
            [
             0.1111111111111111,
             "#46039f"
            ],
            [
             0.2222222222222222,
             "#7201a8"
            ],
            [
             0.3333333333333333,
             "#9c179e"
            ],
            [
             0.4444444444444444,
             "#bd3786"
            ],
            [
             0.5555555555555556,
             "#d8576b"
            ],
            [
             0.6666666666666666,
             "#ed7953"
            ],
            [
             0.7777777777777778,
             "#fb9f3a"
            ],
            [
             0.8888888888888888,
             "#fdca26"
            ],
            [
             1,
             "#f0f921"
            ]
           ]
          },
          "colorway": [
           "#636efa",
           "#EF553B",
           "#00cc96",
           "#ab63fa",
           "#FFA15A",
           "#19d3f3",
           "#FF6692",
           "#B6E880",
           "#FF97FF",
           "#FECB52"
          ],
          "font": {
           "color": "#2a3f5f"
          },
          "geo": {
           "bgcolor": "white",
           "lakecolor": "white",
           "landcolor": "#E5ECF6",
           "showlakes": true,
           "showland": true,
           "subunitcolor": "white"
          },
          "hoverlabel": {
           "align": "left"
          },
          "hovermode": "closest",
          "mapbox": {
           "style": "light"
          },
          "paper_bgcolor": "white",
          "plot_bgcolor": "#E5ECF6",
          "polar": {
           "angularaxis": {
            "gridcolor": "white",
            "linecolor": "white",
            "ticks": ""
           },
           "bgcolor": "#E5ECF6",
           "radialaxis": {
            "gridcolor": "white",
            "linecolor": "white",
            "ticks": ""
           }
          },
          "scene": {
           "xaxis": {
            "backgroundcolor": "#E5ECF6",
            "gridcolor": "white",
            "gridwidth": 2,
            "linecolor": "white",
            "showbackground": true,
            "ticks": "",
            "zerolinecolor": "white"
           },
           "yaxis": {
            "backgroundcolor": "#E5ECF6",
            "gridcolor": "white",
            "gridwidth": 2,
            "linecolor": "white",
            "showbackground": true,
            "ticks": "",
            "zerolinecolor": "white"
           },
           "zaxis": {
            "backgroundcolor": "#E5ECF6",
            "gridcolor": "white",
            "gridwidth": 2,
            "linecolor": "white",
            "showbackground": true,
            "ticks": "",
            "zerolinecolor": "white"
           }
          },
          "shapedefaults": {
           "line": {
            "color": "#2a3f5f"
           }
          },
          "ternary": {
           "aaxis": {
            "gridcolor": "white",
            "linecolor": "white",
            "ticks": ""
           },
           "baxis": {
            "gridcolor": "white",
            "linecolor": "white",
            "ticks": ""
           },
           "bgcolor": "#E5ECF6",
           "caxis": {
            "gridcolor": "white",
            "linecolor": "white",
            "ticks": ""
           }
          },
          "title": {
           "x": 0.05
          },
          "xaxis": {
           "automargin": true,
           "gridcolor": "white",
           "linecolor": "white",
           "ticks": "",
           "title": {
            "standoff": 15
           },
           "zerolinecolor": "white",
           "zerolinewidth": 2
          },
          "yaxis": {
           "automargin": true,
           "gridcolor": "white",
           "linecolor": "white",
           "ticks": "",
           "title": {
            "standoff": 15
           },
           "zerolinecolor": "white",
           "zerolinewidth": 2
          }
         }
        },
        "xaxis": {
         "anchor": "y",
         "autorange": true,
         "domain": [
          0,
          1
         ],
         "range": [
          "2022-05-23 11:56:39",
          "2022-05-24 19:35:52"
         ],
         "title": {
          "text": "timestamp"
         },
         "type": "date"
        },
        "yaxis": {
         "anchor": "x",
         "domain": [
          0,
          1
         ],
         "range": [
          65,
          120
         ],
         "title": {
          "text": "maa"
         },
         "type": "linear"
        }
       }
      },
      "image/png": "[encoded data removed]",
      "text/html": [
       "<div>                            <div id=\"d6fb0acc-c410-41ff-9942-556e2fd483ca\" class=\"plotly-graph-div\" style=\"height:525px; width:100%;\"></div>            <script type=\"text/javascript\">                require([\"plotly\"], function(Plotly) {                    window.PLOTLYENV=window.PLOTLYENV || {};                                    if (document.getElementById(\"d6fb0acc-c410-41ff-9942-556e2fd483ca\")) {                    Plotly.newPlot(                        \"d6fb0acc-c410-41ff-9942-556e2fd483ca\",                        [{\"alignmentgroup\": \"True\", \"hovertemplate\": \"timestamp=%{x}<br>maa=%{y}<extra></extra>\", \"legendgroup\": \"\", \"marker\": {\"color\": \"#636efa\"}, \"name\": \"\", \"offsetgroup\": \"\", \"orientation\": \"v\", \"showlegend\": false, \"textposition\": \"auto\", \"type\": \"bar\", \"x\": [\"2022-05-23T12:01:39\", \"2022-05-23T12:11:51\", \"2022-05-23T12:21:58\", \"2022-05-23T12:32:04\", \"2022-05-23T12:42:11\", \"2022-05-23T12:52:17\", \"2022-05-23T13:02:24\", \"2022-05-23T13:13:19\", \"2022-05-23T13:23:33\", \"2022-05-23T13:33:39\", \"2022-05-23T13:43:51\", \"2022-05-23T13:53:57\", \"2022-05-23T14:04:03\", \"2022-05-23T14:14:10\", \"2022-05-23T14:24:17\", \"2022-05-23T14:34:23\", \"2022-05-23T14:44:30\", \"2022-05-23T14:54:36\", \"2022-05-23T15:04:43\", \"2022-05-23T15:14:49\", \"2022-05-23T15:25:03\", \"2022-05-23T15:35:09\", \"2022-05-23T15:45:16\", \"2022-05-23T15:55:23\", \"2022-05-23T16:05:30\", \"2022-05-23T16:15:36\", \"2022-05-23T16:25:43\", \"2022-05-23T16:35:50\", \"2022-05-23T16:45:57\", \"2022-05-23T16:56:08\", \"2022-05-23T17:06:15\", \"2022-05-23T17:16:23\", \"2022-05-23T17:26:31\", \"2022-05-23T17:36:39\", \"2022-05-23T17:46:40\", \"2022-05-23T17:56:49\", \"2022-05-23T18:06:49\", \"2022-05-23T18:17:05\", \"2022-05-23T18:27:11\", \"2022-05-23T18:37:19\", \"2022-05-23T18:47:25\", \"2022-05-23T18:57:32\", \"2022-05-23T19:07:38\", \"2022-05-23T19:17:45\", \"2022-05-23T19:28:06\", \"2022-05-23T19:38:27\", \"2022-05-23T19:48:48\", \"2022-05-23T19:58:57\", \"2022-05-23T20:09:04\", \"2022-05-23T20:19:10\", \"2022-05-23T20:29:17\", \"2022-05-23T20:39:24\", \"2022-05-23T20:49:30\", \"2022-05-23T20:59:37\", \"2022-05-23T21:09:44\", \"2022-05-23T21:19:51\", \"2022-05-23T21:29:57\", \"2022-05-23T21:40:04\", \"2022-05-23T21:50:45\", \"2022-05-23T22:00:56\", \"2022-05-23T22:10:57\", \"2022-05-23T22:21:05\", \"2022-05-23T22:31:11\", \"2022-05-23T22:41:18\", \"2022-05-23T22:51:30\", \"2022-05-23T23:01:38\", \"2022-05-23T23:11:45\", \"2022-05-23T23:22:03\", \"2022-05-23T23:32:29\", \"2022-05-23T23:43:02\", \"2022-05-23T23:53:52\", \"2022-05-24T00:04:44\", \"2022-05-24T00:15:53\", \"2022-05-24T00:27:43\", \"2022-05-24T00:38:29\", \"2022-05-24T00:48:36\", \"2022-05-24T00:58:46\", \"2022-05-24T01:09:05\", \"2022-05-24T01:19:37\", \"2022-05-24T01:30:15\", \"2022-05-24T01:41:12\", \"2022-05-24T01:52:23\", \"2022-05-24T02:03:57\", \"2022-05-24T02:15:35\", \"2022-05-24T02:25:56\", \"2022-05-24T02:37:37\", \"2022-05-24T02:47:58\", \"2022-05-24T02:58:05\", \"2022-05-24T03:08:12\", \"2022-05-24T03:18:19\", \"2022-05-24T03:28:24\", \"2022-05-24T03:38:31\", \"2022-05-24T03:48:37\", \"2022-05-24T03:58:44\", \"2022-05-24T04:08:45\", \"2022-05-24T04:18:51\", \"2022-05-24T04:28:59\", \"2022-05-24T04:39:06\", \"2022-05-24T04:49:12\", \"2022-05-24T04:59:19\", \"2022-05-24T05:09:20\", \"2022-05-24T05:19:28\", \"2022-05-24T05:29:34\", \"2022-05-24T05:39:43\", \"2022-05-24T05:49:50\", \"2022-05-24T05:59:56\", \"2022-05-24T06:10:03\", \"2022-05-24T06:20:09\", \"2022-05-24T06:30:17\", \"2022-05-24T06:40:23\", \"2022-05-24T06:50:30\", \"2022-05-24T07:00:37\", \"2022-05-24T07:10:46\", \"2022-05-24T07:21:10\", \"2022-05-24T07:31:16\", \"2022-05-24T07:41:22\", \"2022-05-24T07:51:29\", \"2022-05-24T08:01:35\", \"2022-05-24T08:11:44\", \"2022-05-24T08:22:02\", \"2022-05-24T08:32:08\", \"2022-05-24T08:42:15\", \"2022-05-24T08:52:21\", \"2022-05-24T09:02:22\", \"2022-05-24T09:12:30\", \"2022-05-24T09:22:37\", \"2022-05-24T09:32:44\", \"2022-05-24T09:42:52\", \"2022-05-24T09:53:03\", \"2022-05-24T10:03:10\", \"2022-05-24T10:13:20\", \"2022-05-24T10:23:27\", \"2022-05-24T10:33:36\", \"2022-05-24T10:43:51\", \"2022-05-24T10:53:51\", \"2022-05-24T11:03:52\", \"2022-05-24T11:14:10\", \"2022-05-24T11:24:17\", \"2022-05-24T11:34:24\", \"2022-05-24T11:44:31\", \"2022-05-24T11:54:39\", \"2022-05-24T12:04:49\", \"2022-05-24T12:14:55\", \"2022-05-24T12:25:03\", \"2022-05-24T12:35:09\", \"2022-05-24T12:45:17\", \"2022-05-24T12:55:29\", \"2022-05-24T13:05:52\", \"2022-05-24T13:16:00\", \"2022-05-24T13:26:11\", \"2022-05-24T13:36:23\", \"2022-05-24T13:46:31\", \"2022-05-24T13:56:40\", \"2022-05-24T14:06:49\", \"2022-05-24T14:16:56\", \"2022-05-24T14:27:17\", \"2022-05-24T14:37:25\", \"2022-05-24T14:47:32\", \"2022-05-24T14:57:39\", \"2022-05-24T15:07:47\", \"2022-05-24T15:17:55\", \"2022-05-24T15:28:02\", \"2022-05-24T15:38:09\", \"2022-05-24T15:48:15\", \"2022-05-24T15:58:22\", \"2022-05-24T16:08:28\", \"2022-05-24T16:18:35\", \"2022-05-24T16:28:44\", \"2022-05-24T16:38:52\", \"2022-05-24T16:48:59\", \"2022-05-24T16:59:06\", \"2022-05-24T17:09:13\", \"2022-05-24T17:19:19\", \"2022-05-24T17:29:26\", \"2022-05-24T17:39:32\", \"2022-05-24T17:49:41\", \"2022-05-24T17:59:48\", \"2022-05-24T18:09:56\", \"2022-05-24T18:20:03\", \"2022-05-24T18:30:11\", \"2022-05-24T18:40:17\", \"2022-05-24T18:50:23\", \"2022-05-24T19:00:30\", \"2022-05-24T19:10:36\", \"2022-05-24T19:20:45\", \"2022-05-24T19:30:52\"], \"xaxis\": \"x\", \"y\": [2331.5086458333335, 159.95862708333334, 900.84895625, 86.77065, 1420.9632166666668, 844.85998125, 81.01197708333333, 82.14937916666666, 77.66931041666666, 164.85385833333333, 84.99518125, 99.742825, 79.29255833333333, 176.75960625, 160.63376041666666, 77.80495833333333, 78.89290208333334, 77.83735833333333, 78.64923333333333, 79.57941666666666, 78.90530625, 76.91690416666667, 78.06140208333333, 80.47884583333334, 85.60581458333333, 80.55486666666667, 78.0700375, 77.43654583333333, 80.03473125, 78.12529166666667, 82.78309791666666, 77.93993125, 77.84713541666666, 74.50339791666667, 73.3056625, 75.06383541666666, 75.01823333333333, 74.56526041666666, 76.41907916666666, 74.44292083333333, 73.00274583333334, 71.64222916666667, 71.0350375, 70.26906041666666, 70.5251375, 72.12558958333334, 70.4678625, 69.1865125, 69.92091666666667, 68.95665208333334, 70.61101875, 71.70888541666666, 71.36144166666666, 70.03742291666667, 71.58286458333333, 71.0611125, 69.83182291666667, 68.78354375, 68.84509791666666, 69.63596666666666, 71.56354375, 68.9958625, 69.73570625, 68.46471041666666, 70.15009583333334, 69.64414791666667, 68.13445833333333, 68.59768958333333, 68.25624375, 69.39926041666666, 70.086775, 68.90080625, 69.163875, 68.21591875, 69.68010208333334, 69.33553541666667, 66.69666458333333, 69.01197708333333, 67.55393958333333, 69.14208333333333, 69.02980416666666, 67.4495875, 67.37384375, 67.79587916666667, 68.78025416666667, 68.32907291666666, 70.15847708333334, 69.34113125, 68.42773958333333, 68.10261666666666, 68.85376666666667, 67.849525, 69.73391666666667, 68.12295833333333, 68.71025208333333, 70.1288625, 69.42470625, 68.09042916666667, 68.45913125, 68.24786041666667, 71.40263125, 72.91384583333334, 73.873925, 70.8765375, 69.8794375, 68.94137291666667, 67.17291875, 68.21777916666667, 69.60239166666666, 70.21188541666666, 71.05651875, 70.75044375, 69.9727375, 86.99966041666667, 71.81000416666667, 71.81110416666667, 72.44103333333334, 71.24434583333333, 71.341875, 75.79743333333333, 75.91672916666667, 78.40088125, 76.05492708333334, 78.90439791666667, 78.65514166666667, 77.73724375, 73.44599375, 76.75668541666667, 75.04701458333334, 76.27395625, 70.92571458333333, 70.07459166666666, 72.5838625, 71.22432083333334, 71.27031666666667, 70.95452916666666, 71.38205208333333, 71.4431375, 74.20216875, 74.12407083333333, 74.27783541666666, 74.11814583333333, 73.48360625, 74.79841875, 73.96131458333333, 96.74455, 78.56094583333334, 74.29339791666666, 72.86834375, 73.12213333333334, 74.76108125, 73.52889375, 74.47406458333333, 73.37669166666667, 75.00417083333333, 73.50361041666666, 73.60177916666666, 73.63245833333333, 73.38525, 71.47901458333334, 72.10744375, 72.06524583333334, 72.46431041666666, 73.73984791666666, 75.85063125, 73.74232708333334, 73.45102291666667, 69.81261041666667, 69.76387291666667, 71.5114, 71.45532291666666, 72.89577916666667, 71.533775, 70.57064791666667, 70.94257291666666, 70.49525208333333, 118.49050208333334, 70.84812916666667, 72.7462625, 69.97173541666666, 72.00887916666667, 72.523925, 70.87415208333333, 70.37482291666667, 69.52998958333333, 66.75305416666667], \"yaxis\": \"y\"}],                        {\"barmode\": \"relative\", \"legend\": {\"tracegroupgap\": 0}, \"margin\": {\"t\": 60}, \"template\": {\"data\": {\"bar\": [{\"error_x\": {\"color\": \"#2a3f5f\"}, \"error_y\": {\"color\": \"#2a3f5f\"}, \"marker\": {\"line\": {\"color\": \"#E5ECF6\", \"width\": 0.5}}, \"type\": \"bar\"}], \"barpolar\": [{\"marker\": {\"line\": {\"color\": \"#E5ECF6\", \"width\": 0.5}}, \"type\": \"barpolar\"}], \"carpet\": [{\"aaxis\": {\"endlinecolor\": \"#2a3f5f\", \"gridcolor\": \"white\", \"linecolor\": \"white\", \"minorgridcolor\": \"white\", \"startlinecolor\": \"#2a3f5f\"}, \"baxis\": {\"endlinecolor\": \"#2a3f5f\", \"gridcolor\": \"white\", \"linecolor\": \"white\", \"minorgridcolor\": \"white\", \"startlinecolor\": \"#2a3f5f\"}, \"type\": \"carpet\"}], \"choropleth\": [{\"colorbar\": {\"outlinewidth\": 0, \"ticks\": \"\"}, \"type\": \"choropleth\"}], \"contour\": [{\"colorbar\": {\"outlinewidth\": 0, \"ticks\": \"\"}, \"colorscale\": [[0.0, \"#0d0887\"], [0.1111111111111111, \"#46039f\"], [0.2222222222222222, \"#7201a8\"], [0.3333333333333333, \"#9c179e\"], [0.4444444444444444, \"#bd3786\"], [0.5555555555555556, \"#d8576b\"], [0.6666666666666666, \"#ed7953\"], [0.7777777777777778, \"#fb9f3a\"], [0.8888888888888888, \"#fdca26\"], [1.0, \"#f0f921\"]], \"type\": \"contour\"}], \"contourcarpet\": [{\"colorbar\": {\"outlinewidth\": 0, \"ticks\": \"\"}, \"type\": \"contourcarpet\"}], \"heatmap\": [{\"colorbar\": {\"outlinewidth\": 0, \"ticks\": \"\"}, \"colorscale\": [[0.0, \"#0d0887\"], [0.1111111111111111, \"#46039f\"], [0.2222222222222222, \"#7201a8\"], [0.3333333333333333, \"#9c179e\"], [0.4444444444444444, \"#bd3786\"], [0.5555555555555556, \"#d8576b\"], [0.6666666666666666, \"#ed7953\"], [0.7777777777777778, \"#fb9f3a\"], [0.8888888888888888, \"#fdca26\"], [1.0, \"#f0f921\"]], \"type\": \"heatmap\"}], \"heatmapgl\": [{\"colorbar\": {\"outlinewidth\": 0, \"ticks\": \"\"}, \"colorscale\": [[0.0, \"#0d0887\"], [0.1111111111111111, \"#46039f\"], [0.2222222222222222, \"#7201a8\"], [0.3333333333333333, \"#9c179e\"], [0.4444444444444444, \"#bd3786\"], [0.5555555555555556, \"#d8576b\"], [0.6666666666666666, \"#ed7953\"], [0.7777777777777778, \"#fb9f3a\"], [0.8888888888888888, \"#fdca26\"], [1.0, \"#f0f921\"]], \"type\": \"heatmapgl\"}], \"histogram\": [{\"marker\": {\"colorbar\": {\"outlinewidth\": 0, \"ticks\": \"\"}}, \"type\": \"histogram\"}], \"histogram2d\": [{\"colorbar\": {\"outlinewidth\": 0, \"ticks\": \"\"}, \"colorscale\": [[0.0, \"#0d0887\"], [0.1111111111111111, \"#46039f\"], [0.2222222222222222, \"#7201a8\"], [0.3333333333333333, \"#9c179e\"], [0.4444444444444444, \"#bd3786\"], [0.5555555555555556, \"#d8576b\"], [0.6666666666666666, \"#ed7953\"], [0.7777777777777778, \"#fb9f3a\"], [0.8888888888888888, \"#fdca26\"], [1.0, \"#f0f921\"]], \"type\": \"histogram2d\"}], \"histogram2dcontour\": [{\"colorbar\": {\"outlinewidth\": 0, \"ticks\": \"\"}, \"colorscale\": [[0.0, \"#0d0887\"], [0.1111111111111111, \"#46039f\"], [0.2222222222222222, \"#7201a8\"], [0.3333333333333333, \"#9c179e\"], [0.4444444444444444, \"#bd3786\"], [0.5555555555555556, \"#d8576b\"], [0.6666666666666666, \"#ed7953\"], [0.7777777777777778, \"#fb9f3a\"], [0.8888888888888888, \"#fdca26\"], [1.0, \"#f0f921\"]], \"type\": \"histogram2dcontour\"}], \"mesh3d\": [{\"colorbar\": {\"outlinewidth\": 0, \"ticks\": \"\"}, \"type\": \"mesh3d\"}], \"parcoords\": [{\"line\": {\"colorbar\": {\"outlinewidth\": 0, \"ticks\": \"\"}}, \"type\": \"parcoords\"}], \"pie\": [{\"automargin\": true, \"type\": \"pie\"}], \"scatter\": [{\"marker\": {\"colorbar\": {\"outlinewidth\": 0, \"ticks\": \"\"}}, \"type\": \"scatter\"}], \"scatter3d\": [{\"line\": {\"colorbar\": {\"outlinewidth\": 0, \"ticks\": \"\"}}, \"marker\": {\"colorbar\": {\"outlinewidth\": 0, \"ticks\": \"\"}}, \"type\": \"scatter3d\"}], \"scattercarpet\": [{\"marker\": {\"colorbar\": {\"outlinewidth\": 0, \"ticks\": \"\"}}, \"type\": \"scattercarpet\"}], \"scattergeo\": [{\"marker\": {\"colorbar\": {\"outlinewidth\": 0, \"ticks\": \"\"}}, \"type\": \"scattergeo\"}], \"scattergl\": [{\"marker\": {\"colorbar\": {\"outlinewidth\": 0, \"ticks\": \"\"}}, \"type\": \"scattergl\"}], \"scattermapbox\": [{\"marker\": {\"colorbar\": {\"outlinewidth\": 0, \"ticks\": \"\"}}, \"type\": \"scattermapbox\"}], \"scatterpolar\": [{\"marker\": {\"colorbar\": {\"outlinewidth\": 0, \"ticks\": \"\"}}, \"type\": \"scatterpolar\"}], \"scatterpolargl\": [{\"marker\": {\"colorbar\": {\"outlinewidth\": 0, \"ticks\": \"\"}}, \"type\": \"scatterpolargl\"}], \"scatterternary\": [{\"marker\": {\"colorbar\": {\"outlinewidth\": 0, \"ticks\": \"\"}}, \"type\": \"scatterternary\"}], \"surface\": [{\"colorbar\": {\"outlinewidth\": 0, \"ticks\": \"\"}, \"colorscale\": [[0.0, \"#0d0887\"], [0.1111111111111111, \"#46039f\"], [0.2222222222222222, \"#7201a8\"], [0.3333333333333333, \"#9c179e\"], [0.4444444444444444, \"#bd3786\"], [0.5555555555555556, \"#d8576b\"], [0.6666666666666666, \"#ed7953\"], [0.7777777777777778, \"#fb9f3a\"], [0.8888888888888888, \"#fdca26\"], [1.0, \"#f0f921\"]], \"type\": \"surface\"}], \"table\": [{\"cells\": {\"fill\": {\"color\": \"#EBF0F8\"}, \"line\": {\"color\": \"white\"}}, \"header\": {\"fill\": {\"color\": \"#C8D4E3\"}, \"line\": {\"color\": \"white\"}}, \"type\": \"table\"}]}, \"layout\": {\"annotationdefaults\": {\"arrowcolor\": \"#2a3f5f\", \"arrowhead\": 0, \"arrowwidth\": 1}, \"autotypenumbers\": \"strict\", \"coloraxis\": {\"colorbar\": {\"outlinewidth\": 0, \"ticks\": \"\"}}, \"colorscale\": {\"diverging\": [[0, \"#8e0152\"], [0.1, \"#c51b7d\"], [0.2, \"#de77ae\"], [0.3, \"#f1b6da\"], [0.4, \"#fde0ef\"], [0.5, \"#f7f7f7\"], [0.6, \"#e6f5d0\"], [0.7, \"#b8e186\"], [0.8, \"#7fbc41\"], [0.9, \"#4d9221\"], [1, \"#276419\"]], \"sequential\": [[0.0, \"#0d0887\"], [0.1111111111111111, \"#46039f\"], [0.2222222222222222, \"#7201a8\"], [0.3333333333333333, \"#9c179e\"], [0.4444444444444444, \"#bd3786\"], [0.5555555555555556, \"#d8576b\"], [0.6666666666666666, \"#ed7953\"], [0.7777777777777778, \"#fb9f3a\"], [0.8888888888888888, \"#fdca26\"], [1.0, \"#f0f921\"]], \"sequentialminus\": [[0.0, \"#0d0887\"], [0.1111111111111111, \"#46039f\"], [0.2222222222222222, \"#7201a8\"], [0.3333333333333333, \"#9c179e\"], [0.4444444444444444, \"#bd3786\"], [0.5555555555555556, \"#d8576b\"], [0.6666666666666666, \"#ed7953\"], [0.7777777777777778, \"#fb9f3a\"], [0.8888888888888888, \"#fdca26\"], [1.0, \"#f0f921\"]]}, \"colorway\": [\"#636efa\", \"#EF553B\", \"#00cc96\", \"#ab63fa\", \"#FFA15A\", \"#19d3f3\", \"#FF6692\", \"#B6E880\", \"#FF97FF\", \"#FECB52\"], \"font\": {\"color\": \"#2a3f5f\"}, \"geo\": {\"bgcolor\": \"white\", \"lakecolor\": \"white\", \"landcolor\": \"#E5ECF6\", \"showlakes\": true, \"showland\": true, \"subunitcolor\": \"white\"}, \"hoverlabel\": {\"align\": \"left\"}, \"hovermode\": \"closest\", \"mapbox\": {\"style\": \"light\"}, \"paper_bgcolor\": \"white\", \"plot_bgcolor\": \"#E5ECF6\", \"polar\": {\"angularaxis\": {\"gridcolor\": \"white\", \"linecolor\": \"white\", \"ticks\": \"\"}, \"bgcolor\": \"#E5ECF6\", \"radialaxis\": {\"gridcolor\": \"white\", \"linecolor\": \"white\", \"ticks\": \"\"}}, \"scene\": {\"xaxis\": {\"backgroundcolor\": \"#E5ECF6\", \"gridcolor\": \"white\", \"gridwidth\": 2, \"linecolor\": \"white\", \"showbackground\": true, \"ticks\": \"\", \"zerolinecolor\": \"white\"}, \"yaxis\": {\"backgroundcolor\": \"#E5ECF6\", \"gridcolor\": \"white\", \"gridwidth\": 2, \"linecolor\": \"white\", \"showbackground\": true, \"ticks\": \"\", \"zerolinecolor\": \"white\"}, \"zaxis\": {\"backgroundcolor\": \"#E5ECF6\", \"gridcolor\": \"white\", \"gridwidth\": 2, \"linecolor\": \"white\", \"showbackground\": true, \"ticks\": \"\", \"zerolinecolor\": \"white\"}}, \"shapedefaults\": {\"line\": {\"color\": \"#2a3f5f\"}}, \"ternary\": {\"aaxis\": {\"gridcolor\": \"white\", \"linecolor\": \"white\", \"ticks\": \"\"}, \"baxis\": {\"gridcolor\": \"white\", \"linecolor\": \"white\", \"ticks\": \"\"}, \"bgcolor\": \"#E5ECF6\", \"caxis\": {\"gridcolor\": \"white\", \"linecolor\": \"white\", \"ticks\": \"\"}}, \"title\": {\"x\": 0.05}, \"xaxis\": {\"automargin\": true, \"gridcolor\": \"white\", \"linecolor\": \"white\", \"ticks\": \"\", \"title\": {\"standoff\": 15}, \"zerolinecolor\": \"white\", \"zerolinewidth\": 2}, \"yaxis\": {\"automargin\": true, \"gridcolor\": \"white\", \"linecolor\": \"white\", \"ticks\": \"\", \"title\": {\"standoff\": 15}, \"zerolinecolor\": \"white\", \"zerolinewidth\": 2}}}, \"xaxis\": {\"anchor\": \"y\", \"domain\": [0.0, 1.0], \"title\": {\"text\": \"timestamp\"}}, \"yaxis\": {\"anchor\": \"x\", \"domain\": [0.0, 1.0], \"range\": [65, 120], \"title\": {\"text\": \"maa\"}}},                        {\"responsive\": true}                    ).then(function(){\n",
       "                            \n",
       "var gd = document.getElementById('d6fb0acc-c410-41ff-9942-556e2fd483ca');\n",
       "var x = new MutationObserver(function (mutations, observer) {{\n",
       "        var display = window.getComputedStyle(gd).display;\n",
       "        if (!display || display === 'none') {{\n",
       "            console.log([gd, 'removed!']);\n",
       "            Plotly.purge(gd);\n",
       "            observer.disconnect();\n",
       "        }}\n",
       "}});\n",
       "\n",
       "// Listen for the removal of the full notebook cells\n",
       "var notebookContainer = gd.closest('#notebook-container');\n",
       "if (notebookContainer) {{\n",
       "    x.observe(notebookContainer, {childList: true});\n",
       "}}\n",
       "\n",
       "// Listen for the clearing of the current output cell\n",
       "var outputEl = gd.closest('.output');\n",
       "if (outputEl) {{\n",
       "    x.observe(outputEl, {childList: true});\n",
       "}}\n",
       "\n",
       "                        })                };                });            </script>        </div>"
      ]
     },
     "metadata": {},
     "output_type": "display_data"
    }
   ],
   "source": [
    "# plot maa vs timestamp\n",
    "fig1 = df.plot.bar(x='timestamp', y='maa')\n",
    "fig1.update_layout(yaxis_range=[65, 120])\n",
    "# fig1.add_hline(y=df.iloc[0].maa) # add a horizontal line at the value of maa for the recording prior to introduction of the grub\n",
    "fig1.show()"
   ]
  },
  {
   "cell_type": "code",
   "execution_count": 9,
   "id": "54d6aa5b-b9e9-4587-9000-5b85c90866ca",
   "metadata": {},
   "outputs": [],
   "source": [
    "# Garbage collection: Delete local repo\n",
    "shutil.rmtree('good-vibrations', ignore_errors=True)   "
   ]
  },
  {
   "cell_type": "code",
   "execution_count": null,
   "id": "51d5004d-3c95-4ae8-9785-30938d1f2630",
   "metadata": {},
   "outputs": [],
   "source": []
  }
 ],
 "metadata": {
  "kernelspec": {
   "display_name": "Python 3",
   "language": "python",
   "name": "python3"
  },
  "language_info": {
   "codemirror_mode": {
    "name": "ipython",
    "version": 3
   },
   "file_extension": ".py",
   "mimetype": "text/x-python",
   "name": "python",
   "nbconvert_exporter": "python",
   "pygments_lexer": "ipython3",
   "version": "3.8.8"
  }
 },
 "nbformat": 4,
 "nbformat_minor": 5
}
