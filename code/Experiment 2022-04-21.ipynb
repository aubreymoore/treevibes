{
 "cells": [
  {
   "cell_type": "markdown",
   "id": "07dbd83f-d406-4e4f-91b2-61126559ea16",
   "metadata": {
    "tags": []
   },
   "source": [
    "# Experiment 2022-04-21\n",
    "\n",
    "## Introduction\n",
    "\n",
    "This is our first preliminary experiment with a TreeVibes device. The major objective was simply to get hardware and software running. \n",
    "\n",
    "## Methods\n",
    "\n",
    "We attached a TreeVibes device to 2 foot long section of decaying coconut palm stem which was quite dry. \n",
    "The wood was soft enough to push a 6 inch TreeVibes probe into it by hand. \n",
    "Three third instar CRB grubs had been allowed to bore into the stem a fe days priorto the experiment. \n",
    "We were not sure if these were still alive. The experiment was done in an air conditioned lab at about 70 degess F. This is probably too cool for normal CRB behavior.\n",
    "\n",
    "**Hardware.** The TreeVibes device, equipped with a 6 inch aluminum rod, was pushed into the stem. \n",
    "Power was provided by a wall plug adaptor. Audio output was cabled to a USB audio device attached to a laptop computer. Videos of the experiment were made with a smartphone,\n",
    "\n",
    "**Software.** We used Audacity to record and examine signals. We used Open Shot Video Editor to add TreeVibes recordings as a sound tracks for the videos. Synchronization was only approximate because there was nothing we could use to identify a key frame.\n",
    "\n",
    "**Experimental steps.** \n",
    "We drilled a 1 inch diameter hole in the stem to a depth of 1 inchinto which we introduced CRB grubs.. \n",
    "We performed 3 experiments following these steps:\n",
    "* a 1 minute timed recording of the TreeVibes signal was made to measure background\n",
    "* a 1 minute timed recording was started when a grub was dropped into the 1 inch hole. \n",
    "A video of this step was recorded using a smart phone.\n",
    "\n",
    "We replicated the experiment 3 times.\n",
    "In rep 1, we used a 2nd instar grub. After recording, this grub was extracted from the hole and reused in rep 2.\n",
    "In rep 3, we used a 3rd instar grub. The grub was not extracted from the hole at the end of the experiment. \n",
    "A second 1 minute recording was made after pausing for about 20 minutes."
   ]
  },
  {
   "cell_type": "markdown",
   "id": "b9329335-e20d-4696-b9ea-fd7f6404b7e3",
   "metadata": {
    "tags": []
   },
   "source": [
    "## Analysis\n",
    "\n",
    "Data were saved in the following files.\n",
    "\n",
    "**2nd instar - trial 1**\n",
    "* **../data/rec-2022-04-21/no_new_beetle.wav** background 1\n",
    "* **../data/rec-2022-04-21/instar2_in-hole.wav** 2nd instar introduced - trial 1\n",
    "\n",
    "**2nd instar - trial 2**\n",
    "* **../data/rec-2022-04-21/no-new-beetle_2.wav** background 2\n",
    "* **../data/rec-2022-04-21/instar_in_hole2.wav** 2nd instar introduced - trial 2\n",
    "\n",
    "**3rd instar - trial 3**\n",
    "* **../data/rec-2022-04-21/no-new-beetle3.wav** background 3\n",
    "* **../data/rec-2022-04-21/i3-in-hole.wav** 3rd instar introduced \n",
    "* **../data/rec-2022-04-21/20m-after-intro-i3.wav** 20m after 3rd instar introduced\n",
    "\n",
    "We used the mean absolute amplitude, MAA, as indicator of activity within each recording.\n",
    "The following code returns a value of 420.\n",
    "```python\n",
    "from scipy.io import wavfile\n",
    "import numpy as np\n",
    "\n",
    "filename = '../data/rec-2022-04-21/i3-in-hole.wav'\n",
    "samplerate, data = wavfile.read(filename)\n",
    "maa = np.mean(np.abs(data))\n",
    "print(int(maa))\n",
    "```"
   ]
  },
  {
   "cell_type": "code",
   "execution_count": 7,
   "id": "74e1eb84-89d5-442f-aed5-f2824f5b1728",
   "metadata": {},
   "outputs": [],
   "source": [
    "from scipy.io import wavfile\n",
    "from scipy.stats import mannwhitneyu\n",
    "import numpy as np\n",
    "\n",
    "from IPython.display import YouTubeVideo"
   ]
  },
  {
   "cell_type": "code",
   "execution_count": null,
   "id": "40df66c0-b4f4-488e-851f-dd976fb1d67a",
   "metadata": {},
   "outputs": [],
   "source": []
  },
  {
   "cell_type": "code",
   "execution_count": 8,
   "id": "a07354bf-9b26-47ea-a57a-6ca95d8a71ae",
   "metadata": {},
   "outputs": [],
   "source": [
    "def run_mann_whitney(background_wav, grub_wav):\n",
    "    \"\"\"\n",
    "    Tests for significant digfference in activity between 2 wav files. \n",
    "    In this case we are looking at background vibrations detected by TreeVibes versus vibreations caused by movements of a CRB grub.   \n",
    "    We use the mean absolute amplitude, MAA, as a measure of activity.\n",
    "    \n",
    "    Input:   \n",
    "    filenames of 2 wav files, one containing background noise and the other containing signals causedby a grub.\n",
    "    \n",
    "    Output:\n",
    "        background_maa: a measure of background noise\n",
    "        grub_maa: a measure of background noise plus grub activity\n",
    "        p_value: a measure of statistical significance between background_ma and grub_maa.\n",
    "            This value is calculated by the Mann-Whitney test.\n",
    "            A p_value of less than 0.05 indicates that the background_maa and grub_maa differ significantly.\n",
    "    \"\"\"\n",
    "    _, background = wavfile.read(background_wav)\n",
    "    _, grub = wavfile.read(grub_wav)\n",
    "    background_maa = np.mean(np.abs(background))\n",
    "    grub_maa = np.mean(np.abs(grub))\n",
    "    _, p_value = mannwhitneyu(np.abs(background), np.abs(grub))\n",
    "    return background_maa, grub_maa, p_value\n",
    "          \n",
    "# print(run_mann_whitney(t1_background, t1_grub))"
   ]
  },
  {
   "cell_type": "code",
   "execution_count": 9,
   "id": "721b57f4-04f1-47d5-8a4d-457a397b30aa",
   "metadata": {},
   "outputs": [],
   "source": [
    "t1_background = '../data/rec-2022-04-21/no_new_beetle.wav'\n",
    "t1_grub =       '../data/rec-2022-04-21/instar2_in-hole.wav'\n",
    "\n",
    "t2_background = '../data/rec-2022-04-21/no-new-beetle_2.wav'\n",
    "t2_grub =       '../data/rec-2022-04-21/instar_in_hole2.wav'\n",
    "\n",
    "t3_background = '../data/rec-2022-04-21/no-new-beetle3.wav'\n",
    "t3_grub =       '../data/rec-2022-04-21/i3-in-hole.wav'\n",
    "t3_grub_20m =   '../data/rec-2022-04-21/20m-after-intro-i3.wav'"
   ]
  },
  {
   "cell_type": "code",
   "execution_count": 10,
   "id": "ba84f5a4-d842-43cd-aa51-4744a601e7c4",
   "metadata": {},
   "outputs": [
    {
     "name": "stderr",
     "output_type": "stream",
     "text": [
      "<ipython-input-8-b4fe57f6ae47>:17: WavFileWarning: Chunk (non-data) not understood, skipping it.\n",
      "  _, background = wavfile.read(background_wav)\n"
     ]
    },
    {
     "name": "stdout",
     "output_type": "stream",
     "text": [
      "Trial 1 -grub I2:   background_maa=229.0   grub_maa=289.8   p_value=0.0\n"
     ]
    }
   ],
   "source": [
    "#Trial 1 - grub I2\n",
    "\n",
    "background_maa, grub_maa, p_value = run_mann_whitney(t1_background, t1_grub)\n",
    "print(f'Trial 1 -grub I2:   {background_maa=:.4}   {grub_maa=:.4}   {p_value=:.4}')"
   ]
  },
  {
   "cell_type": "code",
   "execution_count": 11,
   "id": "cdb32fff-c40d-4eef-93a7-06d3c6d06bfa",
   "metadata": {},
   "outputs": [
    {
     "name": "stdout",
     "output_type": "stream",
     "text": [
      "Trial 2 - CRB:   grub I2background_maa=260.8   grub_maa=289.9   p_value=1.668e-123\n"
     ]
    }
   ],
   "source": [
    "# Trial 2 - CRB grub I2\n",
    "\n",
    "background_maa, grub_maa, p_value = run_mann_whitney(t2_background, t2_grub)\n",
    "print(f'Trial 2 - CRB:   grub I2{background_maa=:.4}   {grub_maa=:.4}   {p_value=:.4}')"
   ]
  },
  {
   "cell_type": "code",
   "execution_count": 12,
   "id": "dca071e4-5e01-4832-8469-593f7d29fee6",
   "metadata": {},
   "outputs": [
    {
     "name": "stdout",
     "output_type": "stream",
     "text": [
      "Trial 3 - CRB grub I3:   background_maa=227.5   grub_maa=420.7   p_value=0.0\n"
     ]
    }
   ],
   "source": [
    "# Trial 3 - CRB grub I3\n",
    "\n",
    "background_maa, grub_maa, p_value = run_mann_whitney(t3_background, t3_grub)\n",
    "print(f'Trial 3 - CRB grub I3:   {background_maa=:.4}   {grub_maa=:.4}   {p_value=:.4}')"
   ]
  },
  {
   "cell_type": "code",
   "execution_count": 13,
   "id": "71bffb89-f796-4703-926c-7255ccf1a7f5",
   "metadata": {},
   "outputs": [
    {
     "name": "stdout",
     "output_type": "stream",
     "text": [
      "Activity of CRB grub I3 at 20 minutes after being placed in stem: grub_maa=228.9\n"
     ]
    }
   ],
   "source": [
    "# 20 minutes after introduction\n",
    "_, grub = wavfile.read(t3_grub_20m)\n",
    "grub_maa = np.mean(np.abs(grub))\n",
    "print(f'Activity of CRB grub I3 at 20 minutes after being placed in stem: {grub_maa=:.4}')"
   ]
  },
  {
   "cell_type": "code",
   "execution_count": 14,
   "id": "52fda85c-8c4a-4acb-b47c-01cb7fd91120",
   "metadata": {},
   "outputs": [
    {
     "data": {
      "text/html": [
       "<style>\n",
       "table {float:left}\n",
       "</style>\n"
      ],
      "text/plain": [
       "<IPython.core.display.HTML object>"
      ]
     },
     "metadata": {},
     "output_type": "display_data"
    }
   ],
   "source": [
    "%%html\n",
    "<style>\n",
    "table {float:left}\n",
    "</style>"
   ]
  },
  {
   "cell_type": "markdown",
   "id": "39b5739d-3b60-46e0-8179-016fbbf86b2d",
   "metadata": {
    "tags": []
   },
   "source": [
    "## Results and Discussion\n",
    "\n",
    "In all three trials, there was a highly significance increase in signal activity following introduction of the grub. \n",
    "\n",
    "Note that background values are questionable because grubs were previously introduced into the log and these may have been active. \n",
    "Background MAA for trial 2 is 261, compared to 229 and 228 for trials 1 and 3.\n",
    "\n",
    "At about 20 minutes after introduction of the 3rd instar grub in trial 3, activity was at backgroung levels (MAA = 230).\n",
    "\n",
    "|trial|background MAA|grub MAA|p_value|\n",
    "|-----|-------------:|-------:|------:|\n",
    "|Trial 1 - 2nd instar|229|290|< 0.001|\n",
    "|Trial 2 - 2nd instar|261|290|< 0.001|\n",
    "|Trial 3 - 3nd instar|228|421|< 0.001|\n",
    "|---- 20 minutes after introduction|-|230|-|    "
   ]
  },
  {
   "cell_type": "markdown",
   "id": "538b75a3-530d-4302-8176-3216eb4b068d",
   "metadata": {
    "tags": []
   },
   "source": [
    "Increased activity after introduction of grubs into the hole can clearly be seen in the following waveforms and spectrograms are screenshots from Audacity 3.1.3.\n",
    "\n",
    "The spectrograms show that signal strength falls off dramatically above 5 kHz, suggesting that the sample rate for recordings can be reduced from 44,100 Hz to 10,000 Hz without loss of information.\n",
    "\n",
    "### Trial 1 - CRB grub I2\n",
    "\n",
    "Tracks000.png: Trial 1 background<br>\n",
    "<img src=\"../images/Tracks000.png\" width=\"800\">\n",
    "\n",
    "Tracks003.png: Trial 1 grub I2<br>\n",
    "<img src=\"../images/Tracks003.png\" width=\"800\">\n",
    "\n",
    "### Trial 2 - CRB grub I2\n",
    "\n",
    "Tracks001.png: Trial 2 background<br>\n",
    "<img src=\"../images/Tracks001.png\" width=\"800\">\n",
    "\n",
    "Tracks007: Trial 2 grub<br>\n",
    "<img src=\"../images/Tracks007.png\" width=\"800\">\n",
    "\n",
    "### Trial 2 - CRB grub I2\n",
    "\n",
    "Tracks002.png: Trial 3 background<br>\n",
    "<img src=\"../images/Tracks002.png\" width=\"800\">\n",
    "\n",
    "Tracks005: Trial 3 grub I3<br>\n",
    "<img src=\"../images/Tracks005.png\" width=\"800\">\n",
    "\n",
    "Tracks006: Trial 3 grub I3 20m after introduction<br>\n",
    "<img src=\"../images/Tracks006.png\" width=\"800\">"
   ]
  },
  {
   "cell_type": "markdown",
   "id": "5a03af22-c921-4c51-b34a-3a6b5dc4ad0c",
   "metadata": {},
   "source": [
    "### YouTube Videos"
   ]
  },
  {
   "cell_type": "code",
   "execution_count": 15,
   "id": "6342fa84-880d-4047-88d3-4c380387f617",
   "metadata": {
    "tags": []
   },
   "outputs": [
    {
     "name": "stdout",
     "output_type": "stream",
     "text": [
      "Trial 1 - grub I2asasas\n"
     ]
    },
    {
     "data": {
      "image/jpeg": "[encoded data removed]",
      "text/html": [
       "\n",
       "        <iframe\n",
       "            width=\"400\"\n",
       "            height=\"300\"\n",
       "            src=\"https://www.youtube.com/embed/NpxuaA8_dhQ\"\n",
       "            frameborder=\"0\"\n",
       "            allowfullscreen\n",
       "        ></iframe>\n",
       "        "
      ],
      "text/plain": [
       "<IPython.lib.display.YouTubeVideo at 0x7f3fd9c75940>"
      ]
     },
     "execution_count": 15,
     "metadata": {},
     "output_type": "execute_result"
    }
   ],
   "source": [
    "print('Trial 1 - grub I2asasas')\n",
    "YouTubeVideo('NpxuaA8_dhQ')"
   ]
  },
  {
   "cell_type": "code",
   "execution_count": 16,
   "id": "142a2d5a-8c20-4899-9a08-4a355841b47f",
   "metadata": {},
   "outputs": [
    {
     "name": "stdout",
     "output_type": "stream",
     "text": [
      "Trial 2- grub I2\n"
     ]
    },
    {
     "data": {
      "image/jpeg": "[encoded data removed]",
      "text/html": [
       "\n",
       "        <iframe\n",
       "            width=\"400\"\n",
       "            height=\"300\"\n",
       "            src=\"https://www.youtube.com/embed/XdpRKs2AyV4\"\n",
       "            frameborder=\"0\"\n",
       "            allowfullscreen\n",
       "        ></iframe>\n",
       "        "
      ],
      "text/plain": [
       "<IPython.lib.display.YouTubeVideo at 0x7f3fd9c751c0>"
      ]
     },
     "execution_count": 16,
     "metadata": {},
     "output_type": "execute_result"
    }
   ],
   "source": [
    "print('Trial 2- grub I2')\n",
    "YouTubeVideo('XdpRKs2AyV4')"
   ]
  },
  {
   "cell_type": "code",
   "execution_count": 17,
   "id": "bc8b7458-b07a-408b-9550-0f0fc8f52886",
   "metadata": {},
   "outputs": [
    {
     "name": "stdout",
     "output_type": "stream",
     "text": [
      "Trial 3 - grub I3\n"
     ]
    },
    {
     "data": {
      "image/jpeg": "[encoded data removed]",
      "text/html": [
       "\n",
       "        <iframe\n",
       "            width=\"400\"\n",
       "            height=\"300\"\n",
       "            src=\"https://www.youtube.com/embed/Rt66_wWSqic\"\n",
       "            frameborder=\"0\"\n",
       "            allowfullscreen\n",
       "        ></iframe>\n",
       "        "
      ],
      "text/plain": [
       "<IPython.lib.display.YouTubeVideo at 0x7f401c58c6a0>"
      ]
     },
     "execution_count": 17,
     "metadata": {},
     "output_type": "execute_result"
    }
   ],
   "source": [
    "print('Trial 3 - grub I3')\n",
    "YouTubeVideo('Rt66_wWSqic')"
   ]
  },
  {
   "cell_type": "code",
   "execution_count": null,
   "id": "a71ff37c-983c-4a76-a8b0-4d2667d44174",
   "metadata": {},
   "outputs": [],
   "source": []
  }
 ],
 "metadata": {
  "kernelspec": {
   "display_name": "Python 3",
   "language": "python",
   "name": "python3"
  },
  "language_info": {
   "codemirror_mode": {
    "name": "ipython",
    "version": 3
   },
   "file_extension": ".py",
   "mimetype": "text/x-python",
   "name": "python",
   "nbconvert_exporter": "python",
   "pygments_lexer": "ipython3",
   "version": "3.8.8"
  }
 },
 "nbformat": 4,
 "nbformat_minor": 5
}
